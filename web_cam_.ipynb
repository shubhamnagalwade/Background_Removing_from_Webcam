{
  "nbformat": 4,
  "nbformat_minor": 0,
  "metadata": {
    "colab": {
      "name": "web cam .ipynb",
      "provenance": [],
      "collapsed_sections": []
    },
    "kernelspec": {
      "name": "python3",
      "display_name": "Python 3"
    }
  },
  "cells": [
    {
      "cell_type": "code",
      "metadata": {
        "id": "YmC7F5HU_Je2",
        "colab_type": "code",
        "colab": {}
      },
      "source": [
        "import cv2\n",
        "import numpy as np\n",
        "import matplotlib.pyplot as plt\n"
      ],
      "execution_count": 0,
      "outputs": []
    },
    {
      "cell_type": "code",
      "metadata": {
        "id": "jiDDxdUL_hPb",
        "colab_type": "code",
        "colab": {}
      },
      "source": [
        "cap = cv2.VideoCapture(0)\n",
        "panel = np.zeros([100, 700], np.uint8)\n",
        "cv2.namedWindow(\"panel\")\n",
        "\n",
        "\n",
        "def nothing(x):\n",
        "  pass\n",
        "\n",
        "cv2.createTrackbar(\"L - h\", \"panel\", 0, 179, nothing)\n",
        "cv2.createTrackbar(\"U - h\", \"panel\", 179,179, nothing)\n",
        "\n",
        "cv2.createTrackbar(\"L - s\", \"panel\", 0, 255, nothing)\n",
        "cv2.createTrackbar(\"U - s\", \"panel\", 255,255, nothing)\n",
        "\n",
        "cv2.createTrackbar(\"L - v\", \"panel\", 0, 255, nothing)\n",
        "cv2.createTrackbar(\"U - v\", \"panel\", 255,255, nothing)\n",
        "\n",
        "cv2.createTrackbar(\"S ROWS\", \"panel\", 0, 480, nothing)\n",
        "cv2.createTrackbar(\"E ROWS\", \"panel\", 480, 480, nothing)\n",
        "cv2.createTrackbar(\"S COL\", \"panel\", 0, 640, nothing)\n",
        "cv2.createTrackbar(\"E COL\", \"panel\", 640, 640, nothing)\n",
        "\n",
        "while True:\n",
        "    _, frame = cap.read()\n",
        "    #print(frame.shape)\n",
        "\n",
        "    s_r = cv2.getTrackbarPos(\"S ROWS\", \"panel\")\n",
        "    e_r = cv2.getTrackbarPos(\"E ROWS\", \"panel\")\n",
        "    s_c = cv2.getTrackbarPos(\"S COL\", \"panel\")\n",
        "    e_c = cv2.getTrackbarPos(\"E COL\", \"panel\")\n",
        "\n",
        "\n",
        "    roi = frame[s_r:e_r, s_c:e_c]\n",
        "\n",
        "    hsv = cv2.cvtColor(roi, cv2.COLOR_BGR2HSV)\n",
        "\n",
        "    l_h = cv2.getTrackbarPos(\"L_h\", \"panel\")\n",
        "    u_h = cv2.getTrackbarPos(\"U_h\", \"panel\")\n",
        "    l_s = cv2.getTrackbarPos(\"L_s\", \"panel\")\n",
        "    u_s = cv2.getTrackbarPos(\"U_s\", \"panel\")\n",
        "    l_v = cv2.getTrackbarPos(\"L_v\", \"panel\")\n",
        "    u_v = cv2.getTrackbarPos(\"U_v\", \"panel\")\n",
        "\n",
        "    lower_green = np.array([l_h,l_s,l_v])\n",
        "    upper_green = np.array([u_h, u_s, u_v])\n",
        "\n",
        "    mask = cv2.inRange(hsv, lower_green, upper_green)\n",
        "    mask_inv = cv2.bitwise_not(mask)\n",
        "\n",
        "    bg = cv2.bitwise_and(roi, roi, mask=mask)\n",
        "    fg = cv2.bitwise_and(roi, roi, mask=mask_inv)\n",
        "\n",
        "    cv2.imshow(\"bg\", bg)\n",
        "    cv2.imshow(\"fg\", fg)\n",
        "    cv2.imshow = (\"panel\", panel)\n",
        "\n",
        "    k = cv2.waitKey(30) & 0xFF\n",
        "    if k == 27:\n",
        "        break\n",
        "cap.release()\n",
        "cv2.destroyAllWindows()\n"
      ],
      "execution_count": 0,
      "outputs": []
    },
    {
      "cell_type": "code",
      "metadata": {
        "id": "7uE8eJCy_ycW",
        "colab_type": "code",
        "colab": {}
      },
      "source": [
        ""
      ],
      "execution_count": 0,
      "outputs": []
    }
  ]
}